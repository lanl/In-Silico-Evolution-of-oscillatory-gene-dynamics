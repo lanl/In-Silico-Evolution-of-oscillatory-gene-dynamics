{
 "cells": [
  {
   "cell_type": "markdown",
   "metadata": {},
   "source": [
    "Creator: Yen Ting Lin, CCS-3, LANL \n",
    "\n",
    "Note: For the manuscript \"*Gene expression noise accelerates the evolution of a biological oscillator*\", co-authored by Nicolas E. Buchler, NCSU\n",
    "\n",
    "The code has been reviewed by Richard P. Feynman Center for Innovation at the Los Alamos National Laboratory, with a C number C21109\n",
    "\n",
    "This notebook simulates the evolutionary processes of a single biophysical parameter $\\beta^F_X$ for deterministic gene expression dynamics."
   ]
  },
  {
   "cell_type": "code",
   "execution_count": 1,
   "metadata": {},
   "outputs": [],
   "source": [
    "import numpy as np\n",
    "from scipy.integrate import solve_ivp\n",
    "from matplotlib import pyplot as plt\n",
    "from matplotlib import cm \n",
    "\n",
    "from multiprocessing import Pool\n",
    "from subprocess import call, STDOUT\n",
    "\n",
    "from scipy import signal\n",
    "from scipy.stats import norm, uniform"
   ]
  },
  {
   "cell_type": "code",
   "execution_count": 2,
   "metadata": {},
   "outputs": [],
   "source": [
    "plt.rcParams.update({'font.size':14})"
   ]
  },
  {
   "cell_type": "code",
   "execution_count": 3,
   "metadata": {},
   "outputs": [],
   "source": [
    "par = {'kappaX':1.2,\n",
    "       'kappaY':0.9,\n",
    "       'theta':1,\n",
    "       'nA':3,\n",
    "       'nB':3,\n",
    "       'alpha':10,\n",
    "       'betaBX':200,\n",
    "       'betaFX':10,\n",
    "       'betaBY':400,\n",
    "       'betaFY':10,\n",
    "       'deltaX':1.,\n",
    "       'deltaY':0.05,}"
   ]
  },
  {
   "cell_type": "code",
   "execution_count": 4,
   "metadata": {},
   "outputs": [],
   "source": [
    "def H(x,kappa,theta,N):\n",
    "    \n",
    "    prob=np.ones([1,N+1])\n",
    "    \n",
    "    for i in range(1,N+1):\n",
    "        prob[0,i] = prob[0,i-1] * kappa * x  / theta \n",
    "    \n",
    "    total=0\n",
    "    \n",
    "    for i in range(N+1):\n",
    "        total += prob[0,i]\n",
    "    \n",
    "    return prob[0][N]/total\n",
    "\n",
    "\n",
    "def RHS(t,z,par):\n",
    "    \n",
    "    x,y  = z\n",
    "    \n",
    "    dxdt =  par['betaFX'] + (par['betaBX']-par['betaFX'])*H(x,par['kappaX'],par['theta'],3)-par['deltaX']*x - par['alpha']*x*y\n",
    "    dydt =  par['betaFY'] + (par['betaBY']-par['betaFY'])*H(x,par['kappaY'],par['theta'],3)-par['deltaY']*y - par['alpha']*x*y\n",
    "    \n",
    "    return np.array([dxdt,dydt])"
   ]
  },
  {
   "cell_type": "code",
   "execution_count": 5,
   "metadata": {},
   "outputs": [],
   "source": [
    "tSpan = np.linspace(0,50,10001)"
   ]
  },
  {
   "cell_type": "code",
   "execution_count": 6,
   "metadata": {},
   "outputs": [],
   "source": [
    "populationN = 100\n",
    "poolN = populationN"
   ]
  },
  {
   "cell_type": "code",
   "execution_count": 7,
   "metadata": {},
   "outputs": [],
   "source": [
    "def compileParList(par):\n",
    "    \n",
    "    populationN = len(par)\n",
    "    \n",
    "    parList = np.zeros((populationN, 2))\n",
    "    \n",
    "    parList[:,0] = range(populationN)\n",
    "    parList[:,1] = par[:]\n",
    "    \n",
    "    return parList"
   ]
  },
  {
   "cell_type": "code",
   "execution_count": 8,
   "metadata": {},
   "outputs": [],
   "source": [
    "def batchRun(parList,tSpan):\n",
    "    \n",
    "    tN = len(tSpan)\n",
    "    populationN = len(parList)\n",
    "    \n",
    "    output = np.zeros((populationN, tN))\n",
    "    \n",
    "    counter = 0\n",
    "    \n",
    "    for _,betaFX in parList:\n",
    "        \n",
    "        par['betaFX'] = betaFX\n",
    "        sol =  solve_ivp(fun=lambda t,z: RHS(t,z,par), t_span=(tSpan[0],tSpan[-1]), y0=(0.0,0.0), t_eval=tSpan, method='LSODA', rtol=1e-5, atol=1e-5)\n",
    "        \n",
    "        output[counter, :]  = sol.y[0,:]\n",
    "        \n",
    "        counter += 1\n",
    "\n",
    "    return output"
   ]
  },
  {
   "cell_type": "code",
   "execution_count": 9,
   "metadata": {},
   "outputs": [],
   "source": [
    "def evaluatePeak(solutions,dt):\n",
    "    \n",
    "    output = []\n",
    "    \n",
    "    output_fullPSD = []\n",
    "    \n",
    "    populationN = len(solutions)\n",
    "    \n",
    "    for i in range(populationN):\n",
    "    \n",
    "        data = solutions[i,:]\n",
    "        x=data[5000:]\n",
    "\n",
    "        x=(x-np.mean(x))\n",
    "        fs = 1/dt\n",
    "        freqTemp, psdTemp = signal.welch(x, fs, nperseg=256, nfft=len(x), window='boxcar', noverlap=0)\n",
    "\n",
    "        maxDensity = np.amax(psdTemp)\n",
    "        index = np.where(psdTemp==maxDensity)[0][0]\n",
    "        maxFrequency = freqTemp[index]\n",
    "        \n",
    "        if maxDensity < 1E-4:\n",
    "            \n",
    "            maxDensity = 0    \n",
    "            maxFrequency = 0\n",
    "            \n",
    "        output.append([maxFrequency, maxDensity])\n",
    "        \n",
    "        output_fullPSD.append(np.vstack((freqTemp, psdTemp)))\n",
    "\n",
    "    return np.array(output),  np.array(output_fullPSD)"
   ]
  },
  {
   "cell_type": "code",
   "execution_count": 10,
   "metadata": {},
   "outputs": [],
   "source": [
    "def evaluateFitness(parList,tSpan):\n",
    "    \n",
    "    populationN = len(parList)\n",
    "    \n",
    "    \n",
    "    solutions = batchRun(parList,tSpan)\n",
    "    \n",
    "    \n",
    "    l,_ = evaluatePeak(solutions, tSpan[1]-tSpan[0])\n",
    "    \n",
    "    # combine peak frequency and peak power\n",
    "    targetF = 1.5\n",
    "\n",
    "    C0 = 0\n",
    "    C1 = 1\n",
    "    \n",
    "    return l[:,1]/(1+l[:,1])/(1+(l[:,0]-targetF)**2)"
   ]
  },
  {
   "cell_type": "markdown",
   "metadata": {},
   "source": [
    "# Evolutionary process"
   ]
  },
  {
   "cell_type": "code",
   "execution_count": 11,
   "metadata": {},
   "outputs": [],
   "source": [
    "def selectionMutation(parList,tSpan,mutationSTD):\n",
    "    \n",
    "    populationN = len(parList)\n",
    "    \n",
    "    selectionPercentage = 10.\n",
    "    \n",
    "    selectedN = np.around(populationN*(selectionPercentage/100)).astype('int64')\n",
    "    \n",
    "    # Evaluate the fitness\n",
    "    f = evaluateFitness(parList,tSpan)\n",
    "\n",
    "    # Order and select\n",
    "    selectedIndex = f.argsort()[::-1][:selectedN]\n",
    "\n",
    "    # select\n",
    "    selectedPar = parList[selectedIndex,1]\n",
    "    \n",
    "    # mutation kernel\n",
    "    \n",
    "    newParList = np.zeros((populationN, 2))\n",
    "    newParList[:,0] = range(populationN)\n",
    "    \n",
    "    for i in range(populationN):\n",
    "        \n",
    "        # randomly select one parent\n",
    "        \n",
    "        parParent = selectedPar[np.random.choice(selectedN)]\n",
    "        newParList[i,1] = np.clip(np.random.normal(loc = parParent, scale = mutationSTD), 0, np.inf)\n",
    "\n",
    "\n",
    "    return newParList,f\n",
    "    \n",
    "    "
   ]
  },
  {
   "cell_type": "code",
   "execution_count": 12,
   "metadata": {},
   "outputs": [
    {
     "name": "stdout",
     "output_type": "stream",
     "text": [
      "Path 0, generation 0\n",
      "Path 0, generation 1\n",
      "Path 0, generation 2\n",
      "Path 0, generation 3\n",
      "Path 0, generation 4\n",
      "Path 0, generation 5\n",
      "Path 0, generation 6\n",
      "Path 0, generation 7\n",
      "Path 0, generation 8\n",
      "Path 0, generation 9\n",
      "Path 0, generation 10\n",
      "Path 0, generation 11\n",
      "Path 0, generation 12\n",
      "Path 0, generation 13\n",
      "Path 0, generation 14\n",
      "Path 0, generation 15\n",
      "Path 0, generation 16\n",
      "Path 0, generation 17\n",
      "Path 0, generation 18\n",
      "Path 0, generation 19\n",
      "Path 0, generation 20\n",
      "Path 0, generation 21\n",
      "Path 0, generation 22\n",
      "Path 0, generation 23\n",
      "Path 0, generation 24\n",
      "Path 0, generation 25\n",
      "Path 0, generation 26\n",
      "Path 0, generation 27\n",
      "Path 0, generation 28\n",
      "Path 0, generation 29\n",
      "Path 0, generation 30\n",
      "Path 0, generation 31\n",
      "Path 0, generation 32\n",
      "Path 0, generation 33\n",
      "Path 0, generation 34\n",
      "Path 0, generation 35\n",
      "Path 0, generation 36\n",
      "Path 0, generation 37\n",
      "Path 0, generation 38\n",
      "Path 0, generation 39\n",
      "Path 0, generation 40\n",
      "Path 0, generation 41\n",
      "Path 0, generation 42\n",
      "Path 0, generation 43\n",
      "Path 0, generation 44\n",
      "Path 0, generation 45\n",
      "Path 0, generation 46\n",
      "Path 0, generation 47\n",
      "Path 0, generation 48\n",
      "Path 0, generation 49\n"
     ]
    }
   ],
   "source": [
    "# generate N independent paths; for the paper, we have pathN=10\n",
    "pathN = 1\n",
    "tN = 50\n",
    "\n",
    "summary = np.zeros([2, pathN, tN, populationN])\n",
    "\n",
    "for pp in range(pathN):\n",
    "\n",
    "    initialSTD = 0.2\n",
    "    mutationSTD = 0.2\n",
    "\n",
    "    initialPar = norm(loc=25, scale=initialSTD).rvs(populationN)\n",
    "    \n",
    "    parList = compileParList(initialPar)\n",
    "    \n",
    "    for tt in range(tN):\n",
    "\n",
    "        print(f'Path {pp}, generation {tt}')\n",
    "\n",
    "        parList,fitness = selectionMutation(parList,tSpan,mutationSTD=mutationSTD)\n",
    "        \n",
    "        summary[0, pp, tt, :] = parList[:,1]\n",
    "        summary[1, pp, tt, :] = fitness[:]\n"
   ]
  },
  {
   "cell_type": "code",
   "execution_count": 13,
   "metadata": {},
   "outputs": [],
   "source": [
    "np.savez('titrationOscilattor-summary-det-betaFX', summary=summary)"
   ]
  },
  {
   "cell_type": "code",
   "execution_count": 14,
   "metadata": {},
   "outputs": [
    {
     "data": {
      "text/plain": [
       "Text(0, 0.5, '$\\\\beta^F_X$')"
      ]
     },
     "execution_count": 14,
     "metadata": {},
     "output_type": "execute_result"
    },
    {
     "data": {
      "image/png": "[encoded data removed]",
      "text/plain": [
       "<Figure size 432x288 with 1 Axes>"
      ]
     },
     "metadata": {
      "needs_background": "light"
     },
     "output_type": "display_data"
    }
   ],
   "source": [
    "for i in range(pathN):\n",
    "    \n",
    "    series = []\n",
    "    \n",
    "    for t in range(tN):\n",
    "        \n",
    "        fits = summary[1,i,t,:]\n",
    "        pars = summary[0,i,t,:]\n",
    "    \n",
    "        series.append(pars[np.where(fits==np.amax(fits))[0][0]])\n",
    "        \n",
    "    plt.plot(range(tN), series)\n",
    "\n",
    "plt.xlabel('Generation')\n",
    "plt.ylabel('$\\\\beta^F_X$')      "
   ]
  },
  {
   "cell_type": "code",
   "execution_count": null,
   "metadata": {},
   "outputs": [],
   "source": []
  },
  {
   "cell_type": "code",
   "execution_count": null,
   "metadata": {},
   "outputs": [],
   "source": []
  }
 ],
 "metadata": {
  "kernelspec": {
   "display_name": "Python 3",
   "language": "python",
   "name": "python3"
  },
  "language_info": {
   "codemirror_mode": {
    "name": "ipython",
    "version": 3
   },
   "file_extension": ".py",
   "mimetype": "text/x-python",
   "name": "python",
   "nbconvert_exporter": "python",
   "pygments_lexer": "ipython3",
   "version": "3.7.6"
  },
  "varInspector": {
   "cols": {
    "lenName": 16,
    "lenType": 16,
    "lenVar": 40
   },
   "kernels_config": {
    "python": {
     "delete_cmd_postfix": "",
     "delete_cmd_prefix": "del ",
     "library": "var_list.py",
     "varRefreshCmd": "print(var_dic_list())"
    },
    "r": {
     "delete_cmd_postfix": ") ",
     "delete_cmd_prefix": "rm(",
     "library": "var_list.r",
     "varRefreshCmd": "cat(var_dic_list()) "
    }
   },
   "types_to_exclude": [
    "module",
    "function",
    "builtin_function_or_method",
    "instance",
    "_Feature"
   ],
   "window_display": false
  }
 },
 "nbformat": 4,
 "nbformat_minor": 4
}
