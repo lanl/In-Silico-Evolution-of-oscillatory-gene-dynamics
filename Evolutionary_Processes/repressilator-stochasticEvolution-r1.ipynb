{
 "cells": [
  {
   "cell_type": "markdown",
   "metadata": {},
   "source": [
    "Creator: Yen Ting Lin, CCS-3, LANL \n",
    "\n",
    "Note: For the manuscript \"*Gene expression noise accelerates the evolution of a biological oscillator*\", co-authored by Nicolas E. Buchler, NCSU\n",
    "\n",
    "The code has been reviewed by Richard P. Feynman Center for Innovation at the Los Alamos National Laboratory, with a C number C21109\n",
    "\n",
    "This notebook simulates the evolutionary processes of a single biophysical parameter $r_1$ for stochastic gene expression dynamics.\n",
    "\n",
    "Prerequesite: (1) compile ```/CTMC_simulation/repressilator.cpp``` to an executable r_evolution.out in the current folder, and (2) create a folder named ```evoBuffer``` for saving the generated sample paths."
   ]
  },
  {
   "cell_type": "code",
   "execution_count": 1,
   "metadata": {},
   "outputs": [],
   "source": [
    "import numpy as np\n",
    "from scipy.integrate import solve_ivp\n",
    "from matplotlib import pyplot as plt\n",
    "from matplotlib import cm \n",
    "\n",
    "from multiprocessing import Pool\n",
    "from subprocess import call, STDOUT\n",
    "\n",
    "from scipy import signal\n",
    "from scipy.stats import norm, uniform"
   ]
  },
  {
   "cell_type": "code",
   "execution_count": 2,
   "metadata": {},
   "outputs": [],
   "source": [
    "plt.rcParams.update({'font.size':14})"
   ]
  },
  {
   "cell_type": "code",
   "execution_count": 3,
   "metadata": {},
   "outputs": [],
   "source": [
    "populationN = 100\n",
    "poolN = populationN"
   ]
  },
  {
   "cell_type": "code",
   "execution_count": 4,
   "metadata": {},
   "outputs": [],
   "source": [
    "def run_model(par):\n",
    "    \n",
    "    lf = open(f'./evoBuffer/{par[0]}.log','w')  # make sure to create a folder evoBuffer for saving the CTMC trajectories\n",
    "    parameters=f'4.0 {par[1]} 1000 0.1 {par[0]}'   # par[1]: r1, par[0]: unique ID\n",
    "    call(\"./r_evolution.out %s\"%parameters,shell=True,stdout=lf,stderr=STDOUT)\n",
    "    lf.close()\n",
    "    "
   ]
  },
  {
   "cell_type": "code",
   "execution_count": 5,
   "metadata": {},
   "outputs": [],
   "source": [
    "def compileParList(par):\n",
    "    \n",
    "    populationN = len(par)\n",
    "    \n",
    "    parList = np.zeros((populationN, 2))\n",
    "    \n",
    "    parList[:,0] = range(populationN)\n",
    "    parList[:,1] = par[:]\n",
    "    \n",
    "    return parList"
   ]
  },
  {
   "cell_type": "code",
   "execution_count": 6,
   "metadata": {},
   "outputs": [],
   "source": [
    "def batchRun(parList):\n",
    "    \n",
    "    pool = Pool(processes=poolN)\n",
    "    pool.map(run_model,parList)\n",
    "    pool.close()"
   ]
  },
  {
   "cell_type": "code",
   "execution_count": 7,
   "metadata": {},
   "outputs": [],
   "source": [
    "def evaluatePeak(populationN):\n",
    "    \n",
    "    output = []\n",
    "    \n",
    "    output_fullPSD = []\n",
    "    \n",
    "    for i in range(populationN):\n",
    "    \n",
    "        data = np.genfromtxt('./evoBuffer/repressilator-'+str(i)+'.txt')\n",
    "        x=data[5000:,1]\n",
    "\n",
    "        dt = data[1,0]-data[0,0]\n",
    "        x=(x-np.mean(x))\n",
    "        fs = 1/dt\n",
    "        freqTemp, psdTemp = signal.welch(x, fs, nperseg=64, nfft=len(x), window='boxcar', noverlap=0)\n",
    "\n",
    "        maxDensity = np.amax(psdTemp)\n",
    "        index = np.where(psdTemp==maxDensity)[0][0]\n",
    "        maxFrequency = freqTemp[index]\n",
    "\n",
    "        \n",
    "        if maxDensity < 1E-4:\n",
    "            \n",
    "            maxDensity = 0    \n",
    "            maxFrequency = 0\n",
    "            \n",
    "            \n",
    "        output.append([maxFrequency, maxDensity])\n",
    "        \n",
    "        output_fullPSD.append(np.vstack((freqTemp, psdTemp)))\n",
    "\n",
    "    return np.array(output),  np.array(output_fullPSD)"
   ]
  },
  {
   "cell_type": "code",
   "execution_count": 8,
   "metadata": {},
   "outputs": [],
   "source": [
    "def visualizePopulationPSD(lfull, xlim=[0,0.5]):\n",
    "    \n",
    "    for i in range(len(lfull)):\n",
    "    \n",
    "        plt.plot(lfull[i][0,:], lfull[i][1,:])\n",
    "    \n",
    "    plt.xlim(xlim)"
   ]
  },
  {
   "cell_type": "markdown",
   "metadata": {},
   "source": [
    "# Investigate fitness function"
   ]
  },
  {
   "cell_type": "code",
   "execution_count": 9,
   "metadata": {},
   "outputs": [],
   "source": [
    "def evaluateFitness(parList):\n",
    "    \n",
    "    batchRun(parList)\n",
    "    \n",
    "    populationN = len(parList)\n",
    "    l,_ = evaluatePeak(populationN)\n",
    "    \n",
    "    # combine peak frequency and peak power\n",
    "    targetF = 0.3\n",
    "\n",
    "    C0 = 0\n",
    "    C1 = 1\n",
    "    \n",
    "    return l[:,1]/(1+l[:,1])/(1+(l[:,0]-targetF)**2)"
   ]
  },
  {
   "cell_type": "markdown",
   "metadata": {},
   "source": [
    "# Evolutionary process"
   ]
  },
  {
   "cell_type": "code",
   "execution_count": 10,
   "metadata": {},
   "outputs": [],
   "source": [
    "def selectionMutation(parList,mutationSTD):\n",
    "    \n",
    "    populationN = len(parList)\n",
    "    \n",
    "    selectionPercentage = 10.\n",
    "    \n",
    "    selectedN = np.around(populationN*(selectionPercentage/100)).astype('int64')\n",
    "    \n",
    "    # Evaluate the fitness\n",
    "    f = evaluateFitness(parList)\n",
    "\n",
    "    # Order and select\n",
    "    selectedIndex = f.argsort()[::-1][:selectedN]\n",
    "\n",
    "    # select\n",
    "    selectedPar = parList[selectedIndex,1]\n",
    "    \n",
    "    # mutation kernel\n",
    "    \n",
    "    newParList = np.zeros((populationN, 2))\n",
    "    newParList[:,0] = range(populationN)\n",
    "    \n",
    "    for i in range(populationN):\n",
    "        \n",
    "        # randomly select one parent\n",
    "        \n",
    "        parParent = selectedPar[np.random.choice(selectedN)]\n",
    "        newParList[i,1] = np.random.normal(loc = parParent, scale = mutationSTD)\n",
    "\n",
    "    return newParList,f\n",
    "    \n",
    "    "
   ]
  },
  {
   "cell_type": "code",
   "execution_count": 11,
   "metadata": {},
   "outputs": [
    {
     "name": "stdout",
     "output_type": "stream",
     "text": [
      "Path 0, generation 0\n",
      "Path 0, generation 1\n",
      "Path 0, generation 2\n",
      "Path 0, generation 3\n",
      "Path 0, generation 4\n",
      "Path 0, generation 5\n",
      "Path 0, generation 6\n",
      "Path 0, generation 7\n",
      "Path 0, generation 8\n",
      "Path 0, generation 9\n",
      "Path 0, generation 10\n",
      "Path 0, generation 11\n",
      "Path 0, generation 12\n",
      "Path 0, generation 13\n",
      "Path 0, generation 14\n",
      "Path 0, generation 15\n",
      "Path 0, generation 16\n",
      "Path 0, generation 17\n",
      "Path 0, generation 18\n",
      "Path 0, generation 19\n",
      "Path 0, generation 20\n",
      "Path 0, generation 21\n",
      "Path 0, generation 22\n",
      "Path 0, generation 23\n",
      "Path 0, generation 24\n",
      "Path 0, generation 25\n",
      "Path 0, generation 26\n",
      "Path 0, generation 27\n",
      "Path 0, generation 28\n",
      "Path 0, generation 29\n",
      "Path 0, generation 30\n",
      "Path 0, generation 31\n",
      "Path 0, generation 32\n",
      "Path 0, generation 33\n",
      "Path 0, generation 34\n",
      "Path 0, generation 35\n",
      "Path 0, generation 36\n",
      "Path 0, generation 37\n",
      "Path 0, generation 38\n",
      "Path 0, generation 39\n",
      "Path 0, generation 40\n",
      "Path 0, generation 41\n",
      "Path 0, generation 42\n",
      "Path 0, generation 43\n",
      "Path 0, generation 44\n",
      "Path 0, generation 45\n",
      "Path 0, generation 46\n",
      "Path 0, generation 47\n",
      "Path 0, generation 48\n",
      "Path 0, generation 49\n"
     ]
    }
   ],
   "source": [
    "# generate N independent paths; for the paper, we have pathN=10\n",
    "pathN = 1\n",
    "tN = 50\n",
    "\n",
    "summary = np.zeros([2, pathN, tN, populationN])\n",
    "\n",
    "for pp in range(pathN):\n",
    "\n",
    "    initialSTD = 0.025\n",
    "    mutationSTD = 0.025\n",
    "\n",
    "    initialPar = norm(loc=0.8, scale=initialSTD).rvs(populationN)\n",
    "    \n",
    "    parList = compileParList(initialPar)\n",
    "\n",
    "    for tt in range(tN):\n",
    "\n",
    "        print(f'Path {pp}, generation {tt}')\n",
    "        \n",
    "        parList,fitness = selectionMutation(parList,mutationSTD=mutationSTD)\n",
    "        \n",
    "        summary[0, pp, tt, :] = parList[:,1]\n",
    "        summary[1, pp, tt, :] = fitness[:]\n",
    "        \n",
    "        "
   ]
  },
  {
   "cell_type": "code",
   "execution_count": 12,
   "metadata": {},
   "outputs": [],
   "source": [
    "np.savez('repressilator-summary-sto-r1', summary=summary)"
   ]
  },
  {
   "cell_type": "code",
   "execution_count": 13,
   "metadata": {},
   "outputs": [
    {
     "data": {
      "text/plain": [
       "Text(0, 0.5, '$r_1$')"
      ]
     },
     "execution_count": 13,
     "metadata": {},
     "output_type": "execute_result"
    },
    {
     "data": {
      "image/png": "[encoded data removed]",
      "text/plain": [
       "<Figure size 432x288 with 1 Axes>"
      ]
     },
     "metadata": {
      "needs_background": "light"
     },
     "output_type": "display_data"
    }
   ],
   "source": [
    "for i in range(pathN):\n",
    "    \n",
    "    series = []\n",
    "    \n",
    "    for t in range(tN):\n",
    "        \n",
    "        fits = summary[1,i,t,:]\n",
    "        pars = summary[0,i,t,:]\n",
    "    \n",
    "        series.append(pars[np.where(fits==np.amax(fits))[0][0]])\n",
    "        \n",
    "    plt.plot(range(tN), series)\n",
    "\n",
    "plt.xlabel('Generation')\n",
    "plt.ylabel('$r_1$')\n"
   ]
  },
  {
   "cell_type": "code",
   "execution_count": null,
   "metadata": {},
   "outputs": [],
   "source": []
  }
 ],
 "metadata": {
  "kernelspec": {
   "display_name": "Python 3",
   "language": "python",
   "name": "python3"
  },
  "language_info": {
   "codemirror_mode": {
    "name": "ipython",
    "version": 3
   },
   "file_extension": ".py",
   "mimetype": "text/x-python",
   "name": "python",
   "nbconvert_exporter": "python",
   "pygments_lexer": "ipython3",
   "version": "3.7.6"
  },
  "varInspector": {
   "cols": {
    "lenName": 16,
    "lenType": 16,
    "lenVar": 40
   },
   "kernels_config": {
    "python": {
     "delete_cmd_postfix": "",
     "delete_cmd_prefix": "del ",
     "library": "var_list.py",
     "varRefreshCmd": "print(var_dic_list())"
    },
    "r": {
     "delete_cmd_postfix": ") ",
     "delete_cmd_prefix": "rm(",
     "library": "var_list.r",
     "varRefreshCmd": "cat(var_dic_list()) "
    }
   },
   "types_to_exclude": [
    "module",
    "function",
    "builtin_function_or_method",
    "instance",
    "_Feature"
   ],
   "window_display": false
  }
 },
 "nbformat": 4,
 "nbformat_minor": 4
}
