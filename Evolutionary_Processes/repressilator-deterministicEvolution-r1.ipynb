{
 "cells": [
  {
   "cell_type": "markdown",
   "metadata": {},
   "source": [
    "Creator: Yen Ting Lin, CCS-3, LANL \n",
    "\n",
    "Note: For the manuscript \"*Gene expression noise accelerates the evolution of a biological oscillator*\", co-authored by Nicolas E. Buchler, NCSU\n",
    "\n",
    "The code has been reviewed by Richard P. Feynman Center for Innovation at the Los Alamos National Laboratory, with a C number C21109\n",
    "\n",
    "This notebook simulates the evolutionary processes of a single biophysical parameter $r_1$ for deterministic gene expression dynamics."
   ]
  },
  {
   "cell_type": "code",
   "execution_count": 1,
   "metadata": {},
   "outputs": [],
   "source": [
    "import numpy as np\n",
    "from scipy.integrate import solve_ivp\n",
    "from matplotlib import pyplot as plt\n",
    "from matplotlib import cm \n",
    "\n",
    "from multiprocessing import Pool\n",
    "from subprocess import call, STDOUT\n",
    "\n",
    "from scipy import signal\n",
    "from scipy.stats import norm, uniform"
   ]
  },
  {
   "cell_type": "code",
   "execution_count": 2,
   "metadata": {},
   "outputs": [],
   "source": [
    "plt.rcParams.update({'font.size':14})"
   ]
  },
  {
   "cell_type": "code",
   "execution_count": 3,
   "metadata": {},
   "outputs": [],
   "source": [
    "par = {'h':3, 'r0':4.0, 'r1':0.0, 'k':0.5, 'gamma':1 }"
   ]
  },
  {
   "cell_type": "code",
   "execution_count": 4,
   "metadata": {},
   "outputs": [],
   "source": [
    "def Hill(x, par):\n",
    "    \n",
    "    return par['r0'] + (par['r1']-par['r0'])* x**par['h']/(par['k']**par['h'] + x**par['h'])"
   ]
  },
  {
   "cell_type": "code",
   "execution_count": 5,
   "metadata": {},
   "outputs": [],
   "source": [
    "def RHS(t,w,par):\n",
    "    \n",
    "    x,y,z=w\n",
    "    \n",
    "    dx = Hill(z, par) - par['gamma']*x\n",
    "    dy = Hill(x, par) - par['gamma']*y\n",
    "    dz = Hill(y, par) - par['gamma']*z\n",
    "    \n",
    "    return np.array([dx,dy,dz])\n",
    "    "
   ]
  },
  {
   "cell_type": "code",
   "execution_count": 6,
   "metadata": {},
   "outputs": [],
   "source": [
    "tSpan = np.linspace(0,1000,10001)"
   ]
  },
  {
   "cell_type": "code",
   "execution_count": 7,
   "metadata": {},
   "outputs": [],
   "source": [
    "populationN = 100\n",
    "poolN = populationN"
   ]
  },
  {
   "cell_type": "code",
   "execution_count": 8,
   "metadata": {},
   "outputs": [],
   "source": [
    "def compileParList(par):\n",
    "    \n",
    "    populationN = len(par)\n",
    "    \n",
    "    parList = np.zeros((populationN, 2))\n",
    "    \n",
    "    parList[:,0] = range(populationN)\n",
    "    parList[:,1] = par[:]\n",
    "    \n",
    "    return parList"
   ]
  },
  {
   "cell_type": "code",
   "execution_count": 9,
   "metadata": {},
   "outputs": [],
   "source": [
    "def batchRun(parList,tSpan):\n",
    "    \n",
    "    tN = len(tSpan)\n",
    "    populationN = len(parList)\n",
    "    \n",
    "    output = np.zeros((populationN, tN))\n",
    "    \n",
    "    counter = 0\n",
    "    \n",
    "    for _,r1Val in parList:\n",
    "        \n",
    "        par['r1'] = r1Val\n",
    "        sol =  solve_ivp(fun=lambda t,z: RHS(t,z,par), t_span=(tSpan[0],tSpan[-1]), y0=(0.1,0.0,0.0), t_eval=tSpan, method='LSODA', rtol=1e-5, atol=1e-5)\n",
    "        \n",
    "        output[counter, :]  = sol.y[1,:]\n",
    "        \n",
    "        counter += 1\n",
    "\n",
    "    return output"
   ]
  },
  {
   "cell_type": "code",
   "execution_count": 10,
   "metadata": {},
   "outputs": [],
   "source": [
    "def evaluatePeak(solutions,dt):\n",
    "    \n",
    "    output = []\n",
    "    \n",
    "    output_fullPSD = []\n",
    "    \n",
    "    populationN = len(solutions)\n",
    "    \n",
    "    for i in range(populationN):\n",
    "    \n",
    "        data = solutions[i,:]\n",
    "        x=data[5000:]\n",
    "\n",
    "        x=(x-np.mean(x))\n",
    "        fs = 1/dt\n",
    "        freqTemp, psdTemp = signal.welch(x, fs, nperseg=64, nfft=len(x), window='boxcar', noverlap=0)\n",
    "\n",
    "        maxDensity = np.amax(psdTemp)\n",
    "        index = np.where(psdTemp==maxDensity)[0][0]\n",
    "        maxFrequency = freqTemp[index]\n",
    "        \n",
    "        if maxDensity < 1E-4:\n",
    "            \n",
    "            maxDensity = 0    \n",
    "            maxFrequency = 0\n",
    "            \n",
    "        output.append([maxFrequency, maxDensity])\n",
    "        \n",
    "        output_fullPSD.append(np.vstack((freqTemp, psdTemp)))\n",
    "\n",
    "    return np.array(output),  np.array(output_fullPSD)"
   ]
  },
  {
   "cell_type": "code",
   "execution_count": 11,
   "metadata": {},
   "outputs": [],
   "source": [
    "def evaluateFitness(parList,tSpan):\n",
    "    \n",
    "    populationN = len(parList)\n",
    "    \n",
    "    solutions = batchRun(parList,tSpan)\n",
    "    \n",
    "    l,_ = evaluatePeak(solutions, tSpan[1]-tSpan[0])\n",
    "    \n",
    "    # combine peak frequency and peak power\n",
    "    targetF = 0.3\n",
    "\n",
    "    C0 = 0\n",
    "    C1 = 1\n",
    "    \n",
    "    #return 1.0/(1+(l[:,0]-targetF)**2)\n",
    "    return l[:,1]/(1+l[:,1])/(1+(l[:,0]-targetF)**2)"
   ]
  },
  {
   "cell_type": "markdown",
   "metadata": {},
   "source": [
    "# Evolutionary Process"
   ]
  },
  {
   "cell_type": "markdown",
   "metadata": {},
   "source": [
    "Start with a normal distribution of 100 population.\n",
    "Every generation, top 10 individual is selected for reproduction, with a small normally-distributed kernel."
   ]
  },
  {
   "cell_type": "code",
   "execution_count": 12,
   "metadata": {},
   "outputs": [],
   "source": [
    "def selectionMutation(parList,tSpan,mutationSTD):\n",
    "    \n",
    "    populationN = len(parList)\n",
    "    \n",
    "    selectionPercentage = 10.\n",
    "    \n",
    "    selectedN = np.around(populationN*(selectionPercentage/100)).astype('int64')\n",
    "    \n",
    "    # Evaluate the fitness\n",
    "    f = evaluateFitness(parList,tSpan)\n",
    "\n",
    "    # Order and select\n",
    "    selectedIndex = f.argsort()[::-1][:selectedN]\n",
    "\n",
    "    # select\n",
    "    selectedPar = parList[selectedIndex,1]\n",
    "    \n",
    "    # mutation kernel\n",
    "    \n",
    "    newParList = np.zeros((populationN, 2))\n",
    "    newParList[:,0] = range(populationN)\n",
    "    \n",
    "    for i in range(populationN):\n",
    "        \n",
    "        # randomly select one parent\n",
    "        \n",
    "        parParent = selectedPar[np.random.choice(selectedN)]\n",
    "        newParList[i,1] = np.clip(np.random.normal(loc = parParent, scale = mutationSTD), 0, np.inf)\n",
    "\n",
    "\n",
    "    return newParList,f\n",
    "    \n",
    "    "
   ]
  },
  {
   "cell_type": "code",
   "execution_count": 13,
   "metadata": {},
   "outputs": [
    {
     "name": "stdout",
     "output_type": "stream",
     "text": [
      "0\n",
      "1\n",
      "2\n",
      "3\n",
      "4\n",
      "5\n",
      "6\n",
      "7\n",
      "8\n",
      "9\n",
      "10\n",
      "11\n",
      "12\n",
      "13\n",
      "14\n",
      "15\n",
      "16\n",
      "17\n",
      "18\n",
      "19\n",
      "20\n",
      "21\n",
      "22\n",
      "23\n",
      "24\n",
      "25\n",
      "26\n",
      "27\n",
      "28\n",
      "29\n",
      "30\n",
      "31\n",
      "32\n",
      "33\n",
      "34\n",
      "35\n",
      "36\n",
      "37\n",
      "38\n",
      "39\n",
      "40\n",
      "41\n",
      "42\n",
      "43\n",
      "44\n",
      "45\n",
      "46\n",
      "47\n",
      "48\n",
      "49\n"
     ]
    }
   ],
   "source": [
    "# generate N independent paths\n",
    "pathN = 1  \n",
    "tN = 50\n",
    "\n",
    "summary = np.zeros([2, pathN, tN, populationN])\n",
    "\n",
    "for pp in range(pathN):\n",
    "\n",
    "    initialSTD = 0.025\n",
    "    mutationSTD = 0.025\n",
    "\n",
    "    initialPar = norm(loc=0.8, scale=initialSTD).rvs(populationN)\n",
    "    \n",
    "    parList = compileParList(initialPar)\n",
    "    \n",
    "    for tt in range(tN):\n",
    "    \n",
    "        print(tt)\n",
    "        \n",
    "        parList,fitness = selectionMutation(parList,tSpan,mutationSTD=mutationSTD)\n",
    "        \n",
    "        summary[0, pp, tt, :] = parList[:,1]\n",
    "        summary[1, pp, tt, :] = fitness[:]\n",
    "        "
   ]
  },
  {
   "cell_type": "code",
   "execution_count": 14,
   "metadata": {},
   "outputs": [],
   "source": [
    "# Save the results\n",
    "np.savez('repressilator-summary-det-r1', summary=summary)"
   ]
  },
  {
   "cell_type": "code",
   "execution_count": 15,
   "metadata": {},
   "outputs": [
    {
     "data": {
      "text/plain": [
       "Text(0, 0.5, '$r_1$')"
      ]
     },
     "execution_count": 15,
     "metadata": {},
     "output_type": "execute_result"
    },
    {
     "data": {
      "image/png": "[encoded data removed]",
      "text/plain": [
       "<Figure size 432x288 with 1 Axes>"
      ]
     },
     "metadata": {
      "needs_background": "light"
     },
     "output_type": "display_data"
    }
   ],
   "source": [
    "for i in range(pathN):\n",
    "    \n",
    "    series = []\n",
    "    \n",
    "    for t in range(tN):\n",
    "        \n",
    "        fits = summary[1,i,t,:]\n",
    "        pars = summary[0,i,t,:]\n",
    "    \n",
    "        series.append(pars[np.where(fits==np.amax(fits))[0][0]])\n",
    "        \n",
    "    plt.plot(range(tN), series)\n",
    "    \n",
    "plt.xlabel('Generation')\n",
    "plt.ylabel('$r_1$')\n"
   ]
  },
  {
   "cell_type": "code",
   "execution_count": null,
   "metadata": {},
   "outputs": [],
   "source": []
  },
  {
   "cell_type": "code",
   "execution_count": null,
   "metadata": {},
   "outputs": [],
   "source": []
  }
 ],
 "metadata": {
  "kernelspec": {
   "display_name": "Python 3",
   "language": "python",
   "name": "python3"
  },
  "language_info": {
   "codemirror_mode": {
    "name": "ipython",
    "version": 3
   },
   "file_extension": ".py",
   "mimetype": "text/x-python",
   "name": "python",
   "nbconvert_exporter": "python",
   "pygments_lexer": "ipython3",
   "version": "3.7.6"
  },
  "varInspector": {
   "cols": {
    "lenName": 16,
    "lenType": 16,
    "lenVar": 40
   },
   "kernels_config": {
    "python": {
     "delete_cmd_postfix": "",
     "delete_cmd_prefix": "del ",
     "library": "var_list.py",
     "varRefreshCmd": "print(var_dic_list())"
    },
    "r": {
     "delete_cmd_postfix": ") ",
     "delete_cmd_prefix": "rm(",
     "library": "var_list.r",
     "varRefreshCmd": "cat(var_dic_list()) "
    }
   },
   "types_to_exclude": [
    "module",
    "function",
    "builtin_function_or_method",
    "instance",
    "_Feature"
   ],
   "window_display": false
  }
 },
 "nbformat": 4,
 "nbformat_minor": 4
}
